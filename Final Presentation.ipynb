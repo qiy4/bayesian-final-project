{
 "cells": [
  {
   "cell_type": "markdown",
   "id": "969de361-4cd0-4ddf-9844-0479263f506c",
   "metadata": {},
   "source": [
    "<!-- Title slide -->\n",
    "# 🚗 **BERT: Detecting Fraudulent Auto Insurance Claims**\n",
    "### 🔍 Bayesian ML for Insurance Fraud Prevention\n",
    "---\n",
    "\n",
    "**Group Members:**  \n",
    "- Charlotte Liao  \n",
    "- Chelsea Liu\n",
    "- Qi Yang\n",
    "- Tracy Xu \n",
    "\n",
    "**Course:** Bayesian Machine Learning with Generative AI Applications \n",
    "\n",
    "**Date:** May 28, 2025  "
   ]
  },
  {
   "cell_type": "markdown",
   "id": "489f78ca-0eef-4359-837f-2eb603d56e0d",
   "metadata": {},
   "source": [
    "---\n",
    "## Business Problem Statement\n",
    "Fraudulent insurance claims pose a significant financial risk to auto insurance cmpanies and contribute to higher premiums for honest policyholders. Early and accurate detection of such claims is essential to prevent escalating losses. However, manual detection methods are often time-consuming, inefficient, and struggle to keep up with complexity and volume of claim data. \n",
    "\n",
    "Therefore, our project aims to leverage machine learning-based classification models- specifically leveraging Bayesian techniques- to flag potentially fraudulent claims with greater accuracy. By analyzing structured claim records, we hope to enhance fraud detection capability, improve operational efficiency, reduce financial losses, and promote fairness in the treatment of policyholders. "
   ]
  },
  {
   "cell_type": "code",
   "execution_count": null,
   "id": "90e0a218-ccc4-4dab-88ad-fadd2384a061",
   "metadata": {},
   "outputs": [],
   "source": []
  }
 ],
 "metadata": {
  "kernelspec": {
   "display_name": "Python 3 (ipykernel)",
   "language": "python",
   "name": "python3"
  },
  "language_info": {
   "codemirror_mode": {
    "name": "ipython",
    "version": 3
   },
   "file_extension": ".py",
   "mimetype": "text/x-python",
   "name": "python",
   "nbconvert_exporter": "python",
   "pygments_lexer": "ipython3",
   "version": "3.12.2"
  }
 },
 "nbformat": 4,
 "nbformat_minor": 5
}
